{
 "cells": [
  {
   "cell_type": "code",
   "execution_count": 1,
   "id": "5aaa9a7e",
   "metadata": {},
   "outputs": [],
   "source": [
    "import torch\n",
    "import torch.optim as optim"
   ]
  },
  {
   "cell_type": "code",
   "execution_count": null,
   "id": "544f826c",
   "metadata": {},
   "outputs": [],
   "source": [
    "import torch_mimicry as mmc"
   ]
  },
  {
   "cell_type": "code",
   "execution_count": 3,
   "id": "e87d8c86",
   "metadata": {},
   "outputs": [],
   "source": [
    "import models.ssd_sngan_32 as ssd_sngan"
   ]
  },
  {
   "cell_type": "code",
   "execution_count": 4,
   "id": "d35c35fa",
   "metadata": {},
   "outputs": [],
   "source": [
    "# 支持选择图片库 ('CIFAR10', 'CIFAR100', 'STL10', 'FashionMNIST' )，选择sample size，选择image大小，和grayscale\n",
    "import os\n",
    "from torch.utils.data import random_split\n",
    "from torchvision import transforms, datasets\n",
    "\n",
    "def dataset_split_shape(name, n = 60000, size = 32, grayScale = False, convert_tensor=True, transform_data = True, root='./datasets/', download=True):\n",
    "  \n",
    "  dataset_dir = os.path.join(root, f\"{name}_{n}_{size}\")\n",
    "  if not os.path.exists(dataset_dir):\n",
    "    os.makedirs(dataset_dir)\n",
    "\n",
    "  if transform_data:\n",
    "    transform_list = [transforms.ToTensor(),\n",
    "                      transforms.Resize(size)]\n",
    "    if grayScale:\n",
    "      transform_list.append(transforms.Grayscale()) \n",
    "    if convert_tensor:\n",
    "      transform_list.append(transforms.Normalize((0.5, ), (0.5, )))\n",
    "  else:\n",
    "    transform_list = []\n",
    "\n",
    "  transformer = transforms.Compose(transform_list)\n",
    "\n",
    "  if name == 'CIFAR10': \n",
    "    dataset = datasets.CIFAR10(\n",
    "      root=dataset_dir,\n",
    "      download=download,\n",
    "      transform=transforms.Compose(transform_list)\n",
    "  )\n",
    "  elif name == 'CIFAR100': \n",
    "    dataset = datasets.CIFAR100(\n",
    "      root=dataset_dir,\n",
    "      download=download,\n",
    "      transform=transforms.Compose(transform_list)\n",
    "  )\n",
    "  elif name == 'STL10': #与原package相同，默认选择unlabeled的数据\n",
    "    dataset = datasets.STL10(\n",
    "      root=dataset_dir,\n",
    "      download=download,\n",
    "      split='unlabeled',\n",
    "      transform=transforms.Compose(transform_list)\n",
    "  )\n",
    "  elif name == 'FashionMNIST': \n",
    "    dataset = datasets.FashionMNIST(\n",
    "      root=dataset_dir,\n",
    "      download=download,\n",
    "      transform=transforms.Compose(transform_list)\n",
    "  )\n",
    "  else:\n",
    "    print(\"invalid name\")\n",
    "    return \n",
    "  if n is None or n > len(dataset):\n",
    "    return dataset\n",
    "  generator1 = torch.Generator().manual_seed(42)\n",
    "  a, b = random_split(dataset, [n, len(dataset)-n], generator = generator1)\n",
    "  return a"
   ]
  },
  {
   "cell_type": "code",
   "execution_count": null,
   "id": "fd3e72b6",
   "metadata": {},
   "outputs": [],
   "source": [
    "#选取CIFAR里面的500张图，size改为32*32\n",
    "CIFAR10_500_32 = dataset_split_shape('CIFAR10', n = 60000, size = 32)"
   ]
  },
  {
   "cell_type": "code",
   "execution_count": null,
   "id": "5d992175",
   "metadata": {},
   "outputs": [],
   "source": [
    "print('check dataset')\n",
    "print(f\"number of images: {len(CIFAR10_500_32)}\")\n",
    "print(f\"shape of images: {CIFAR10_500_32[0][0].shape}\")"
   ]
  },
  {
   "cell_type": "code",
   "execution_count": 7,
   "id": "a313b306",
   "metadata": {},
   "outputs": [],
   "source": [
    "device = torch.device('cuda:0' if torch.cuda.is_available() else \"cpu\")\n",
    "CIFAR10_500_32_dataloader = torch.utils.data.DataLoader(\n",
    "    CIFAR10_500_32, batch_size=64, shuffle=True, num_workers=4)"
   ]
  },
  {
   "cell_type": "code",
   "execution_count": 8,
   "id": "bd7f608c",
   "metadata": {},
   "outputs": [],
   "source": [
    "# Define models and optimizers\n",
    "netG = ssd_sngan.SSD_SNGANGenerator32().to(device)\n",
    "netD = ssd_sngan.SSD_SNGANDiscriminator32().to(device)\n",
    "optD = optim.Adam(netD.parameters(), 2e-4, betas=(0.0, 0.9))\n",
    "optG = optim.Adam(netG.parameters(), 2e-4, betas=(0.0, 0.9))\n",
    "\n",
    "# Start training\n",
    "trainer = mmc.training.Trainer(\n",
    "    netD=netD,\n",
    "    netG=netG,\n",
    "    optD=optD,\n",
    "    optG=optG,\n",
    "    n_dis=5,\n",
    "    num_steps=100000, # number of iterations\n",
    "    lr_decay='linear',\n",
    "    dataloader= CIFAR10_500_32_dataloader,\n",
    "    log_dir='./log/CIFAR10_500_32', #自定义地址\n",
    "    device=device)"
   ]
  },
  {
   "cell_type": "code",
   "execution_count": null,
   "id": "ed6e68e1",
   "metadata": {},
   "outputs": [],
   "source": [
    "trainer.train() # training所用时长与batch size相关"
   ]
  },
  {
   "cell_type": "code",
   "execution_count": 10,
   "id": "4911a7e8",
   "metadata": {},
   "outputs": [],
   "source": [
    "\n",
    "def create_stats_file(log_dir, num_real_samples, seed, dataset, metric):\n",
    "  stats_dir = os.path.join(log_dir, 'metrics', metric, 'statistics')\n",
    "  if not os.path.exists(stats_dir):\n",
    "    os.makedirs(stats_dir)\n",
    "\n",
    "  stats_file = os.path.join(\n",
    "            stats_dir,\n",
    "            \"fid_stats_{}_{}k_run_{}.npz\".format(dataset, num_real_samples // 1000,\n",
    "                                                 seed))\n",
    "  return stats_file\n",
    "\n",
    "#如果metric是kid: \n",
    "def create_feat_file(log_dir, num_samples, seed, dataset, metric):\n",
    "  stats_dir = os.path.join(log_dir, 'metrics', metric, 'statistics')\n",
    "  if not os.path.exists(stats_dir):\n",
    "    os.makedirs(stats_dir)\n",
    "\n",
    "  stats_file = os.path.join(\n",
    "            stats_dir,\n",
    "            \"fid_stats_{}_{}k_run_{}.npz\".format(dataset, num_samples // 1000,\n",
    "                                                 seed))\n",
    "  return stats_file\n",
    "\n"
   ]
  },
  {
   "cell_type": "code",
   "execution_count": null,
   "id": "95ee4c77",
   "metadata": {},
   "outputs": [],
   "source": [
    "mmc.metrics.evaluate(\n",
    "    metric='fid',\n",
    "    log_dir='./log/CIFAR10_500_32',\n",
    "    netG=netG,\n",
    "    num_real_samples = 50000,\n",
    "    num_fake_samples = 50000, \n",
    "    dataset = CIFAR10_500_32,\n",
    "    evaluate_step=100000,\n",
    "    start_seed=0,\n",
    "    num_runs=1,\n",
    "    device=device,\n",
    "    stats_file = create_stats_file('./log/CIFAR10_500_32', 20, 0, CIFAR10_500_32, 'fid'))"
   ]
  },
  {
   "cell_type": "code",
   "execution_count": 15,
   "id": "efd48ec0",
   "metadata": {},
   "outputs": [],
   "source": [
    "Log=mmc.training.Logger(log_dir='./log/CIFAR10_500_32', num_steps=100000, dataset_size=60000, device=device)"
   ]
  },
  {
   "cell_type": "code",
   "execution_count": 16,
   "id": "2802216f",
   "metadata": {},
   "outputs": [],
   "source": [
    "Log.vis_images(netG=netG,global_step=100000)"
   ]
  }
 ],
 "metadata": {
  "kernelspec": {
   "display_name": "Python 3 (ipykernel)",
   "language": "python",
   "name": "python3"
  },
  "language_info": {
   "codemirror_mode": {
    "name": "ipython",
    "version": 3
   },
   "file_extension": ".py",
   "mimetype": "text/x-python",
   "name": "python",
   "nbconvert_exporter": "python",
   "pygments_lexer": "ipython3",
   "version": "3.9.16"
  }
 },
 "nbformat": 4,
 "nbformat_minor": 5
}
