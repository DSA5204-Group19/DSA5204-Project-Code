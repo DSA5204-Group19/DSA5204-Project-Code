{
  "cells": [
    {
      "cell_type": "code",
      "execution_count": null,
      "metadata": {
        "id": "mEpOOnOQfGMy"
      },
      "outputs": [],
      "source": [
        "import torch\n",
        "import torch.optim as optim\n",
        "import torch_mimicry as mmc"
      ]
    },
    {
      "cell_type": "code",
      "execution_count": null,
      "metadata": {},
      "outputs": [],
      "source": [
        "import  models.sngan_32 as sngan"
      ]
    },
    {
      "cell_type": "code",
      "execution_count": null,
      "metadata": {
        "id": "UVWpxYs5fX0z"
      },
      "outputs": [],
      "source": [
        "# 支持选择图片库 ('CIFAR10', 'CIFAR100', 'STL10', 'FashionMNIST' )，选择sample size，选择image大小，和grayscale\n",
        "import os\n",
        "from torch.utils.data import random_split\n",
        "from torchvision import transforms, datasets\n",
        "\n",
        "def dataset_split_shape(name, n = 60000, size = 32, grayScale = False, convert_tensor=True, transform_data = True, root='./datasets/', download=True):\n",
        "  \n",
        "  dataset_dir = os.path.join(root, f\"{name}_{n}_{size}\")\n",
        "  if not os.path.exists(dataset_dir):\n",
        "    os.makedirs(dataset_dir)\n",
        "\n",
        "  if transform_data:\n",
        "    transform_list = [transforms.ToTensor(),\n",
        "                      transforms.Resize(size)]\n",
        "    if grayScale:\n",
        "      transform_list.append(transforms.Grayscale()) \n",
        "    if convert_tensor:\n",
        "      transform_list.append(transforms.Normalize((0.5, ), (0.5, )))\n",
        "  else:\n",
        "    transform_list = []\n",
        "\n",
        "  transformer = transforms.Compose(transform_list)\n",
        "\n",
        "  if name == 'CIFAR10': \n",
        "    dataset = datasets.CIFAR10(\n",
        "      root=dataset_dir,\n",
        "      download=download,\n",
        "      transform=transforms.Compose(transform_list)\n",
        "  )\n",
        "  elif name == 'CIFAR100': \n",
        "    dataset = datasets.CIFAR100(\n",
        "      root=dataset_dir,\n",
        "      download=download,\n",
        "      transform=transforms.Compose(transform_list)\n",
        "  )\n",
        "  elif name == 'STL10': #与原package相同，默认选择unlabeled的数据\n",
        "    dataset = datasets.STL10(\n",
        "      root=dataset_dir,\n",
        "      download=download,\n",
        "      split='unlabeled',\n",
        "      transform=transforms.Compose(transform_list)\n",
        "  )\n",
        "  elif name == 'FashionMNIST': \n",
        "    dataset = datasets.FashionMNIST(\n",
        "      root=dataset_dir,\n",
        "      download=download,\n",
        "      transform=transforms.Compose(transform_list)\n",
        "  )\n",
        "  else:\n",
        "    print(\"invalid name\")\n",
        "    return \n",
        "  if n is None or n > len(dataset):\n",
        "    return dataset\n",
        "  generator1 = torch.Generator().manual_seed(42)\n",
        "  a, b = random_split(dataset, [n, len(dataset)-n], generator = generator1)\n",
        "  return a"
      ]
    },
    {
      "cell_type": "code",
      "execution_count": null,
      "metadata": {
        "colab": {
          "base_uri": "https://localhost:8080/",
          "height": 85,
          "referenced_widgets": [
            "6f983144ce16470891d705d0158f40be",
            "e14fda666ddc4fc09e7df3eb5bebd3cb",
            "f44824b1744f43f69b158b68fe93e0c7",
            "3ed26d95a02e4138b2e483bc0ea5adde",
            "2a99ef4abc69491eb7edd442c773bba2",
            "1b86fdbafd4a4a9391ecec2397eb3bf7",
            "d9c2d192c2c04e9888c913d1c68f1fe4",
            "679c1cd0f5b34be6a26849cf9a9ca082",
            "41bb8d945f03438e8d0bfb6cec2e8a49",
            "b277cccd42d84cd8b143800a75193c92",
            "2323429cd2e44cacbf0d7a56f2eb45f6"
          ]
        },
        "id": "jrHSsssMfhNs",
        "outputId": "e9b2aba2-3033-44b1-a6ae-e33848deb12a"
      },
      "outputs": [],
      "source": [
        "CIFAR10_500_32 = dataset_split_shape('CIFAR10', n = 60000, size = 32)"
      ]
    },
    {
      "cell_type": "code",
      "execution_count": null,
      "metadata": {
        "colab": {
          "base_uri": "https://localhost:8080/"
        },
        "id": "_0YvxpJbfkM2",
        "outputId": "71e0eb2b-54b3-408b-e773-57c9d5795baa"
      },
      "outputs": [],
      "source": [
        "print('check dataset')\n",
        "print(f\"number of images: {len(CIFAR10_500_32)}\")\n",
        "print(f\"shape of images: {CIFAR10_500_32[0][0].shape}\")"
      ]
    },
    {
      "cell_type": "code",
      "execution_count": null,
      "metadata": {
        "id": "RiX-Koiffm44"
      },
      "outputs": [],
      "source": [
        "#建立dataloader\n",
        "device = torch.device('cuda:0' if torch.cuda.is_available() else \"cpu\")\n",
        "CIFAR10_500_32_dataloader = torch.utils.data.DataLoader(\n",
        "    CIFAR10_500_32, batch_size=64, shuffle=True, num_workers=4)"
      ]
    },
    {
      "cell_type": "code",
      "execution_count": null,
      "metadata": {
        "id": "yLDunJO7fqvQ"
      },
      "outputs": [],
      "source": [
        "netG = sngan.SNGANGenerator32().to(device)\n",
        "netD = sngan.SNGANDiscriminator32().to(device)\n",
        "optD = optim.Adam(netD.parameters(), 2e-4, betas=(0.0, 0.9))\n",
        "optG = optim.Adam(netG.parameters(), 2e-4, betas=(0.0, 0.9))\n",
        "\n",
        "# Start training\n",
        "trainer = mmc.training.Trainer(\n",
        "    netD=netD,\n",
        "    netG=netG,\n",
        "    optD=optD,\n",
        "    optG=optG,\n",
        "    n_dis=5,\n",
        "    num_steps=100000, # number of iterations\n",
        "    lr_decay='linear',\n",
        "    dataloader= CIFAR10_500_32_dataloader,\n",
        "    log_dir='./log/CIFAR10_500_32', #自定义地址\n",
        "    device=device)"
      ]
    },
    {
      "cell_type": "code",
      "execution_count": null,
      "metadata": {
        "colab": {
          "base_uri": "https://localhost:8080/"
        },
        "id": "76pFjYVyft6w",
        "outputId": "89e9d7e9-cec4-4f6e-8ed7-92d8ba592abf"
      },
      "outputs": [],
      "source": [
        "trainer.train()"
      ]
    },
    {
      "cell_type": "code",
      "execution_count": null,
      "metadata": {},
      "outputs": [],
      "source": [
        "\n",
        "def create_stats_file(log_dir, num_real_samples, seed, dataset, metric):\n",
        "  stats_dir = os.path.join(log_dir, 'metrics', metric, 'statistics')\n",
        "  if not os.path.exists(stats_dir):\n",
        "    os.makedirs(stats_dir)\n",
        "\n",
        "  stats_file = os.path.join(\n",
        "            stats_dir,\n",
        "            \"fid_stats_{}_{}k_run_{}.npz\".format(dataset, num_real_samples // 1000,\n",
        "                                                 seed))\n",
        "  return stats_file\n",
        "\n",
        "#如果metric是kid: \n",
        "def create_feat_file(log_dir, num_samples, seed, dataset, metric):\n",
        "  stats_dir = os.path.join(log_dir, 'metrics', metric, 'statistics')\n",
        "  if not os.path.exists(stats_dir):\n",
        "    os.makedirs(stats_dir)\n",
        "\n",
        "  stats_file = os.path.join(\n",
        "            stats_dir,\n",
        "            \"fid_stats_{}_{}k_run_{}.npz\".format(dataset, num_samples // 1000,\n",
        "                                                 seed))\n",
        "  return stats_file\n"
      ]
    },
    {
      "cell_type": "code",
      "execution_count": null,
      "metadata": {},
      "outputs": [],
      "source": [
        "mmc.metrics.evaluate(\n",
        "    metric='fid',\n",
        "    log_dir='./log/CIFAR10_500_32',\n",
        "    netG=netG,\n",
        "    num_real_samples = 50000,\n",
        "    num_fake_samples = 50000, \n",
        "    dataset = CIFAR10_500_32,\n",
        "    evaluate_step=100000,\n",
        "    start_seed=0,\n",
        "    num_runs=1,\n",
        "    device=device,\n",
        "    stats_file = create_stats_file('./log/CIFAR10_500_32', 20, 0, CIFAR10_500_32, 'fid'))"
      ]
    },
    {
      "cell_type": "code",
      "execution_count": null,
      "metadata": {},
      "outputs": [],
      "source": [
        "Log=mmc.training.Logger(log_dir='./log/CIFAR10_500_32', num_steps=100000, dataset_size=60000, device=device)"
      ]
    },
    {
      "cell_type": "code",
      "execution_count": null,
      "metadata": {},
      "outputs": [],
      "source": [
        "Log.vis_images(netG=netG,global_step=100000)"
      ]
    }
  ],
  "metadata": {
    "colab": {
      "provenance": [],
      "toc_visible": true
    },
    "kernelspec": {
      "display_name": "Python 3",
      "name": "python3"
    },
    "language_info": {
      "name": "python"
    },
    "widgets": {
      "application/vnd.jupyter.widget-state+json": {
        "1b86fdbafd4a4a9391ecec2397eb3bf7": {
          "model_module": "@jupyter-widgets/base",
          "model_module_version": "1.2.0",
          "model_name": "LayoutModel",
          "state": {
            "_model_module": "@jupyter-widgets/base",
            "_model_module_version": "1.2.0",
            "_model_name": "LayoutModel",
            "_view_count": null,
            "_view_module": "@jupyter-widgets/base",
            "_view_module_version": "1.2.0",
            "_view_name": "LayoutView",
            "align_content": null,
            "align_items": null,
            "align_self": null,
            "border": null,
            "bottom": null,
            "display": null,
            "flex": null,
            "flex_flow": null,
            "grid_area": null,
            "grid_auto_columns": null,
            "grid_auto_flow": null,
            "grid_auto_rows": null,
            "grid_column": null,
            "grid_gap": null,
            "grid_row": null,
            "grid_template_areas": null,
            "grid_template_columns": null,
            "grid_template_rows": null,
            "height": null,
            "justify_content": null,
            "justify_items": null,
            "left": null,
            "margin": null,
            "max_height": null,
            "max_width": null,
            "min_height": null,
            "min_width": null,
            "object_fit": null,
            "object_position": null,
            "order": null,
            "overflow": null,
            "overflow_x": null,
            "overflow_y": null,
            "padding": null,
            "right": null,
            "top": null,
            "visibility": null,
            "width": null
          }
        },
        "2323429cd2e44cacbf0d7a56f2eb45f6": {
          "model_module": "@jupyter-widgets/controls",
          "model_module_version": "1.5.0",
          "model_name": "DescriptionStyleModel",
          "state": {
            "_model_module": "@jupyter-widgets/controls",
            "_model_module_version": "1.5.0",
            "_model_name": "DescriptionStyleModel",
            "_view_count": null,
            "_view_module": "@jupyter-widgets/base",
            "_view_module_version": "1.2.0",
            "_view_name": "StyleView",
            "description_width": ""
          }
        },
        "2a99ef4abc69491eb7edd442c773bba2": {
          "model_module": "@jupyter-widgets/base",
          "model_module_version": "1.2.0",
          "model_name": "LayoutModel",
          "state": {
            "_model_module": "@jupyter-widgets/base",
            "_model_module_version": "1.2.0",
            "_model_name": "LayoutModel",
            "_view_count": null,
            "_view_module": "@jupyter-widgets/base",
            "_view_module_version": "1.2.0",
            "_view_name": "LayoutView",
            "align_content": null,
            "align_items": null,
            "align_self": null,
            "border": null,
            "bottom": null,
            "display": null,
            "flex": null,
            "flex_flow": null,
            "grid_area": null,
            "grid_auto_columns": null,
            "grid_auto_flow": null,
            "grid_auto_rows": null,
            "grid_column": null,
            "grid_gap": null,
            "grid_row": null,
            "grid_template_areas": null,
            "grid_template_columns": null,
            "grid_template_rows": null,
            "height": null,
            "justify_content": null,
            "justify_items": null,
            "left": null,
            "margin": null,
            "max_height": null,
            "max_width": null,
            "min_height": null,
            "min_width": null,
            "object_fit": null,
            "object_position": null,
            "order": null,
            "overflow": null,
            "overflow_x": null,
            "overflow_y": null,
            "padding": null,
            "right": null,
            "top": null,
            "visibility": null,
            "width": null
          }
        },
        "3ed26d95a02e4138b2e483bc0ea5adde": {
          "model_module": "@jupyter-widgets/controls",
          "model_module_version": "1.5.0",
          "model_name": "HTMLModel",
          "state": {
            "_dom_classes": [],
            "_model_module": "@jupyter-widgets/controls",
            "_model_module_version": "1.5.0",
            "_model_name": "HTMLModel",
            "_view_count": null,
            "_view_module": "@jupyter-widgets/controls",
            "_view_module_version": "1.5.0",
            "_view_name": "HTMLView",
            "description": "",
            "description_tooltip": null,
            "layout": "IPY_MODEL_b277cccd42d84cd8b143800a75193c92",
            "placeholder": "​",
            "style": "IPY_MODEL_2323429cd2e44cacbf0d7a56f2eb45f6",
            "value": " 170500096/? [00:19&lt;00:00, 84429869.73it/s]"
          }
        },
        "41bb8d945f03438e8d0bfb6cec2e8a49": {
          "model_module": "@jupyter-widgets/controls",
          "model_module_version": "1.5.0",
          "model_name": "ProgressStyleModel",
          "state": {
            "_model_module": "@jupyter-widgets/controls",
            "_model_module_version": "1.5.0",
            "_model_name": "ProgressStyleModel",
            "_view_count": null,
            "_view_module": "@jupyter-widgets/base",
            "_view_module_version": "1.2.0",
            "_view_name": "StyleView",
            "bar_color": null,
            "description_width": ""
          }
        },
        "679c1cd0f5b34be6a26849cf9a9ca082": {
          "model_module": "@jupyter-widgets/base",
          "model_module_version": "1.2.0",
          "model_name": "LayoutModel",
          "state": {
            "_model_module": "@jupyter-widgets/base",
            "_model_module_version": "1.2.0",
            "_model_name": "LayoutModel",
            "_view_count": null,
            "_view_module": "@jupyter-widgets/base",
            "_view_module_version": "1.2.0",
            "_view_name": "LayoutView",
            "align_content": null,
            "align_items": null,
            "align_self": null,
            "border": null,
            "bottom": null,
            "display": null,
            "flex": null,
            "flex_flow": null,
            "grid_area": null,
            "grid_auto_columns": null,
            "grid_auto_flow": null,
            "grid_auto_rows": null,
            "grid_column": null,
            "grid_gap": null,
            "grid_row": null,
            "grid_template_areas": null,
            "grid_template_columns": null,
            "grid_template_rows": null,
            "height": null,
            "justify_content": null,
            "justify_items": null,
            "left": null,
            "margin": null,
            "max_height": null,
            "max_width": null,
            "min_height": null,
            "min_width": null,
            "object_fit": null,
            "object_position": null,
            "order": null,
            "overflow": null,
            "overflow_x": null,
            "overflow_y": null,
            "padding": null,
            "right": null,
            "top": null,
            "visibility": null,
            "width": "20px"
          }
        },
        "6f983144ce16470891d705d0158f40be": {
          "model_module": "@jupyter-widgets/controls",
          "model_module_version": "1.5.0",
          "model_name": "HBoxModel",
          "state": {
            "_dom_classes": [],
            "_model_module": "@jupyter-widgets/controls",
            "_model_module_version": "1.5.0",
            "_model_name": "HBoxModel",
            "_view_count": null,
            "_view_module": "@jupyter-widgets/controls",
            "_view_module_version": "1.5.0",
            "_view_name": "HBoxView",
            "box_style": "",
            "children": [
              "IPY_MODEL_e14fda666ddc4fc09e7df3eb5bebd3cb",
              "IPY_MODEL_f44824b1744f43f69b158b68fe93e0c7",
              "IPY_MODEL_3ed26d95a02e4138b2e483bc0ea5adde"
            ],
            "layout": "IPY_MODEL_2a99ef4abc69491eb7edd442c773bba2"
          }
        },
        "b277cccd42d84cd8b143800a75193c92": {
          "model_module": "@jupyter-widgets/base",
          "model_module_version": "1.2.0",
          "model_name": "LayoutModel",
          "state": {
            "_model_module": "@jupyter-widgets/base",
            "_model_module_version": "1.2.0",
            "_model_name": "LayoutModel",
            "_view_count": null,
            "_view_module": "@jupyter-widgets/base",
            "_view_module_version": "1.2.0",
            "_view_name": "LayoutView",
            "align_content": null,
            "align_items": null,
            "align_self": null,
            "border": null,
            "bottom": null,
            "display": null,
            "flex": null,
            "flex_flow": null,
            "grid_area": null,
            "grid_auto_columns": null,
            "grid_auto_flow": null,
            "grid_auto_rows": null,
            "grid_column": null,
            "grid_gap": null,
            "grid_row": null,
            "grid_template_areas": null,
            "grid_template_columns": null,
            "grid_template_rows": null,
            "height": null,
            "justify_content": null,
            "justify_items": null,
            "left": null,
            "margin": null,
            "max_height": null,
            "max_width": null,
            "min_height": null,
            "min_width": null,
            "object_fit": null,
            "object_position": null,
            "order": null,
            "overflow": null,
            "overflow_x": null,
            "overflow_y": null,
            "padding": null,
            "right": null,
            "top": null,
            "visibility": null,
            "width": null
          }
        },
        "d9c2d192c2c04e9888c913d1c68f1fe4": {
          "model_module": "@jupyter-widgets/controls",
          "model_module_version": "1.5.0",
          "model_name": "DescriptionStyleModel",
          "state": {
            "_model_module": "@jupyter-widgets/controls",
            "_model_module_version": "1.5.0",
            "_model_name": "DescriptionStyleModel",
            "_view_count": null,
            "_view_module": "@jupyter-widgets/base",
            "_view_module_version": "1.2.0",
            "_view_name": "StyleView",
            "description_width": ""
          }
        },
        "e14fda666ddc4fc09e7df3eb5bebd3cb": {
          "model_module": "@jupyter-widgets/controls",
          "model_module_version": "1.5.0",
          "model_name": "HTMLModel",
          "state": {
            "_dom_classes": [],
            "_model_module": "@jupyter-widgets/controls",
            "_model_module_version": "1.5.0",
            "_model_name": "HTMLModel",
            "_view_count": null,
            "_view_module": "@jupyter-widgets/controls",
            "_view_module_version": "1.5.0",
            "_view_name": "HTMLView",
            "description": "",
            "description_tooltip": null,
            "layout": "IPY_MODEL_1b86fdbafd4a4a9391ecec2397eb3bf7",
            "placeholder": "​",
            "style": "IPY_MODEL_d9c2d192c2c04e9888c913d1c68f1fe4",
            "value": ""
          }
        },
        "f44824b1744f43f69b158b68fe93e0c7": {
          "model_module": "@jupyter-widgets/controls",
          "model_module_version": "1.5.0",
          "model_name": "FloatProgressModel",
          "state": {
            "_dom_classes": [],
            "_model_module": "@jupyter-widgets/controls",
            "_model_module_version": "1.5.0",
            "_model_name": "FloatProgressModel",
            "_view_count": null,
            "_view_module": "@jupyter-widgets/controls",
            "_view_module_version": "1.5.0",
            "_view_name": "ProgressView",
            "bar_style": "info",
            "description": "",
            "description_tooltip": null,
            "layout": "IPY_MODEL_679c1cd0f5b34be6a26849cf9a9ca082",
            "max": 1,
            "min": 0,
            "orientation": "horizontal",
            "style": "IPY_MODEL_41bb8d945f03438e8d0bfb6cec2e8a49",
            "value": 1
          }
        }
      }
    }
  },
  "nbformat": 4,
  "nbformat_minor": 0
}
